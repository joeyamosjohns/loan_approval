{
 "cells": [
  {
   "cell_type": "code",
   "execution_count": null,
   "id": "b1560cfb-6589-4bfe-9b8f-8103a1fa7925",
   "metadata": {},
   "outputs": [],
   "source": [
    "##Round 1 cleaning complete. v1 decisions: keep all nan as new feature/value; no skew or outlier action has been taken\n",
    "##Round 1 exploration complete. (a) Distribution of each feature explored (b) feature-target and feature-feature relationships explored \n",
    "\n",
    "##Round 1 modelling Plan: make one model for each notebook, try to do systematic tuning ... take best few models (?) or is it too soon?\n",
    "##then go back and do feature engineering and feature selection based on these base-line models\n",
    "##Build pipe-line: dummies, scaling, tuning ...\n",
    "\n",
    "##next steps:\n",
    "##\n",
    "##Flask API Deployment\n",
    "##build small webpage interaction\n"
   ]
  },
  {
   "cell_type": "markdown",
   "id": "1359efb1-103d-4360-a79d-3fceb18e9e4e",
   "metadata": {},
   "source": [
    "### Tuning of KNN \n",
    "\n",
    "Main parameters: k = num_neighbors, and metric"
   ]
  },
  {
   "cell_type": "code",
   "execution_count": null,
   "id": "8a8ea7be-9e6e-4828-a3b3-c987068772ed",
   "metadata": {},
   "outputs": [],
   "source": [
    "## following https://machinelearningmastery.com/hyperparameters-for-classification-machine-learning-algorithms/"
   ]
  },
  {
   "cell_type": "code",
   "execution_count": null,
   "id": "6d3930bc-de41-4da9-b866-9925090d5c99",
   "metadata": {},
   "outputs": [],
   "source": [
    "##brief review of KNN vs K-means ... \n",
    "##K-means (unspervised) has no labels, just feature space ... you create k-labels (choice of k is tricky and important)\n",
    "##then run thru k-means clustering algorithm to assign k-labels (clusters) to the data \n",
    "##b\n",
    "##KNN (supervised) is simpler because data already comes with p-labels (the role of k is different here) \n",
    "##in the training data on the test data you simply look at the k-nearet neighors (of training set) and take majority vote \n",
    "##on what label to assign to new point. The choice of k is important and the metric can change the outcomes."
   ]
  },
  {
   "cell_type": "code",
   "execution_count": 2,
   "id": "d36736eb-dfca-4e86-9fb5-5ac94b4893b3",
   "metadata": {},
   "outputs": [],
   "source": [
    "import pandas as pd\n",
    "import numpy as np\n",
    "\n",
    "from matplotlib import pyplot as plt\n",
    "\n",
    "from sklearn.preprocessing import FunctionTransformer\n",
    "from sklearn.compose import ColumnTransformer\n",
    "\n",
    "from sklearn.impute import SimpleImputer\n",
    "from sklearn.preprocessing import StandardScaler, RobustScaler, QuantileTransformer\n",
    "from sklearn.feature_selection import SelectKBest, f_regression\n",
    "from sklearn.decomposition import PCA \n",
    "from sklearn.linear_model import Ridge\n",
    "from sklearn.preprocessing import OneHotEncoder\n",
    "\n",
    "from sklearn.pipeline import Pipeline\n",
    "from sklearn.metrics import accuracy_score, precision_score, recall_score, roc_auc_score, confusion_matrix\n",
    "from sklearn.metrics import mean_absolute_error, mean_squared_error, r2_score, f1_score\n",
    "import seaborn as sns\n",
    "\n",
    "import pickle\n",
    "\n",
    "#sns.set()\n",
    "sns.set(rc={'figure.figsize':(8,5)})\n",
    "\n"
   ]
  },
  {
   "cell_type": "code",
   "execution_count": 3,
   "id": "98fec286-67d0-43e2-9388-f752a6f0cffc",
   "metadata": {},
   "outputs": [],
   "source": [
    "## cleaning tool\n",
    "\n",
    "\n",
    "def perc_null(X):\n",
    "    \n",
    "    total = X.isnull().sum().sort_values(ascending=False)\n",
    "    data_types = X.dtypes\n",
    "    percent = (X.isnull().sum()/X.isnull().count()).sort_values(ascending=False)\n",
    "\n",
    "    missing_data = pd.concat([total, data_types, percent], axis=1, keys=['Total','Type' ,'Percent'])\n",
    "    return missing_data\n"
   ]
  },
  {
   "cell_type": "code",
   "execution_count": 4,
   "id": "84ed78ec-e3a5-42c6-978d-f79aa86412ad",
   "metadata": {},
   "outputs": [
    {
     "name": "stdout",
     "output_type": "stream",
     "text": [
      "(614, 13)\n"
     ]
    },
    {
     "data": {
      "text/html": [
       "<div>\n",
       "<style scoped>\n",
       "    .dataframe tbody tr th:only-of-type {\n",
       "        vertical-align: middle;\n",
       "    }\n",
       "\n",
       "    .dataframe tbody tr th {\n",
       "        vertical-align: top;\n",
       "    }\n",
       "\n",
       "    .dataframe thead th {\n",
       "        text-align: right;\n",
       "    }\n",
       "</style>\n",
       "<table border=\"1\" class=\"dataframe\">\n",
       "  <thead>\n",
       "    <tr style=\"text-align: right;\">\n",
       "      <th></th>\n",
       "      <th>Loan_ID</th>\n",
       "      <th>Gender</th>\n",
       "      <th>Married</th>\n",
       "      <th>Dependents</th>\n",
       "      <th>Education</th>\n",
       "      <th>Self_Employed</th>\n",
       "      <th>ApplicantIncome</th>\n",
       "      <th>CoapplicantIncome</th>\n",
       "      <th>LoanAmount</th>\n",
       "      <th>Loan_Amount_Term</th>\n",
       "      <th>Credit_History</th>\n",
       "      <th>Property_Area</th>\n",
       "      <th>Loan_Status</th>\n",
       "    </tr>\n",
       "  </thead>\n",
       "  <tbody>\n",
       "    <tr>\n",
       "      <th>0</th>\n",
       "      <td>LP001002</td>\n",
       "      <td>Male</td>\n",
       "      <td>No</td>\n",
       "      <td>0</td>\n",
       "      <td>Graduate</td>\n",
       "      <td>No</td>\n",
       "      <td>5849</td>\n",
       "      <td>0.0</td>\n",
       "      <td>NaN</td>\n",
       "      <td>360.0</td>\n",
       "      <td>1.0</td>\n",
       "      <td>Urban</td>\n",
       "      <td>Y</td>\n",
       "    </tr>\n",
       "    <tr>\n",
       "      <th>1</th>\n",
       "      <td>LP001003</td>\n",
       "      <td>Male</td>\n",
       "      <td>Yes</td>\n",
       "      <td>1</td>\n",
       "      <td>Graduate</td>\n",
       "      <td>No</td>\n",
       "      <td>4583</td>\n",
       "      <td>1508.0</td>\n",
       "      <td>128.0</td>\n",
       "      <td>360.0</td>\n",
       "      <td>1.0</td>\n",
       "      <td>Rural</td>\n",
       "      <td>N</td>\n",
       "    </tr>\n",
       "    <tr>\n",
       "      <th>2</th>\n",
       "      <td>LP001005</td>\n",
       "      <td>Male</td>\n",
       "      <td>Yes</td>\n",
       "      <td>0</td>\n",
       "      <td>Graduate</td>\n",
       "      <td>Yes</td>\n",
       "      <td>3000</td>\n",
       "      <td>0.0</td>\n",
       "      <td>66.0</td>\n",
       "      <td>360.0</td>\n",
       "      <td>1.0</td>\n",
       "      <td>Urban</td>\n",
       "      <td>Y</td>\n",
       "    </tr>\n",
       "  </tbody>\n",
       "</table>\n",
       "</div>"
      ],
      "text/plain": [
       "    Loan_ID Gender Married Dependents Education Self_Employed  \\\n",
       "0  LP001002   Male      No          0  Graduate            No   \n",
       "1  LP001003   Male     Yes          1  Graduate            No   \n",
       "2  LP001005   Male     Yes          0  Graduate           Yes   \n",
       "\n",
       "   ApplicantIncome  CoapplicantIncome  LoanAmount  Loan_Amount_Term  \\\n",
       "0             5849                0.0         NaN             360.0   \n",
       "1             4583             1508.0       128.0             360.0   \n",
       "2             3000                0.0        66.0             360.0   \n",
       "\n",
       "   Credit_History Property_Area Loan_Status  \n",
       "0             1.0         Urban           Y  \n",
       "1             1.0         Rural           N  \n",
       "2             1.0         Urban           Y  "
      ]
     },
     "execution_count": 4,
     "metadata": {},
     "output_type": "execute_result"
    }
   ],
   "source": [
    "path = \"/Users/joejohns/Downloads/data_loans.csv\"\n",
    "\n",
    "data = pd.read_csv(path) \n",
    "print(data.shape)\n",
    "data.head(3)"
   ]
  },
  {
   "cell_type": "markdown",
   "id": "63641633-d69d-4139-b4c9-6c46878e7554",
   "metadata": {},
   "source": [
    "## data processing from round 1\n"
   ]
  },
  {
   "cell_type": "code",
   "execution_count": 5,
   "id": "753f03c8-e92b-4f38-8474-f52e6e5d7f7c",
   "metadata": {},
   "outputs": [
    {
     "data": {
      "text/html": [
       "<div>\n",
       "<style scoped>\n",
       "    .dataframe tbody tr th:only-of-type {\n",
       "        vertical-align: middle;\n",
       "    }\n",
       "\n",
       "    .dataframe tbody tr th {\n",
       "        vertical-align: top;\n",
       "    }\n",
       "\n",
       "    .dataframe thead th {\n",
       "        text-align: right;\n",
       "    }\n",
       "</style>\n",
       "<table border=\"1\" class=\"dataframe\">\n",
       "  <thead>\n",
       "    <tr style=\"text-align: right;\">\n",
       "      <th></th>\n",
       "      <th>Total</th>\n",
       "      <th>Type</th>\n",
       "      <th>Percent</th>\n",
       "    </tr>\n",
       "  </thead>\n",
       "  <tbody>\n",
       "    <tr>\n",
       "      <th>Credit_History</th>\n",
       "      <td>50</td>\n",
       "      <td>float64</td>\n",
       "      <td>0.081433</td>\n",
       "    </tr>\n",
       "    <tr>\n",
       "      <th>Self_Employed</th>\n",
       "      <td>32</td>\n",
       "      <td>object</td>\n",
       "      <td>0.052117</td>\n",
       "    </tr>\n",
       "    <tr>\n",
       "      <th>LoanAmount</th>\n",
       "      <td>22</td>\n",
       "      <td>float64</td>\n",
       "      <td>0.035831</td>\n",
       "    </tr>\n",
       "    <tr>\n",
       "      <th>Dependents</th>\n",
       "      <td>15</td>\n",
       "      <td>object</td>\n",
       "      <td>0.024430</td>\n",
       "    </tr>\n",
       "    <tr>\n",
       "      <th>Loan_Amount_Term</th>\n",
       "      <td>14</td>\n",
       "      <td>float64</td>\n",
       "      <td>0.022801</td>\n",
       "    </tr>\n",
       "    <tr>\n",
       "      <th>Gender</th>\n",
       "      <td>13</td>\n",
       "      <td>object</td>\n",
       "      <td>0.021173</td>\n",
       "    </tr>\n",
       "    <tr>\n",
       "      <th>Married</th>\n",
       "      <td>3</td>\n",
       "      <td>object</td>\n",
       "      <td>0.004886</td>\n",
       "    </tr>\n",
       "    <tr>\n",
       "      <th>Loan_ID</th>\n",
       "      <td>0</td>\n",
       "      <td>object</td>\n",
       "      <td>0.000000</td>\n",
       "    </tr>\n",
       "    <tr>\n",
       "      <th>Education</th>\n",
       "      <td>0</td>\n",
       "      <td>object</td>\n",
       "      <td>0.000000</td>\n",
       "    </tr>\n",
       "    <tr>\n",
       "      <th>ApplicantIncome</th>\n",
       "      <td>0</td>\n",
       "      <td>int64</td>\n",
       "      <td>0.000000</td>\n",
       "    </tr>\n",
       "    <tr>\n",
       "      <th>CoapplicantIncome</th>\n",
       "      <td>0</td>\n",
       "      <td>float64</td>\n",
       "      <td>0.000000</td>\n",
       "    </tr>\n",
       "    <tr>\n",
       "      <th>Property_Area</th>\n",
       "      <td>0</td>\n",
       "      <td>object</td>\n",
       "      <td>0.000000</td>\n",
       "    </tr>\n",
       "    <tr>\n",
       "      <th>Loan_Status</th>\n",
       "      <td>0</td>\n",
       "      <td>object</td>\n",
       "      <td>0.000000</td>\n",
       "    </tr>\n",
       "  </tbody>\n",
       "</table>\n",
       "</div>"
      ],
      "text/plain": [
       "                   Total     Type   Percent\n",
       "Credit_History        50  float64  0.081433\n",
       "Self_Employed         32   object  0.052117\n",
       "LoanAmount            22  float64  0.035831\n",
       "Dependents            15   object  0.024430\n",
       "Loan_Amount_Term      14  float64  0.022801\n",
       "Gender                13   object  0.021173\n",
       "Married                3   object  0.004886\n",
       "Loan_ID                0   object  0.000000\n",
       "Education              0   object  0.000000\n",
       "ApplicantIncome        0    int64  0.000000\n",
       "CoapplicantIncome      0  float64  0.000000\n",
       "Property_Area          0   object  0.000000\n",
       "Loan_Status            0   object  0.000000"
      ]
     },
     "execution_count": 5,
     "metadata": {},
     "output_type": "execute_result"
    }
   ],
   "source": [
    "perc_null(data)\n",
    "    "
   ]
  },
  {
   "cell_type": "code",
   "execution_count": 6,
   "id": "f80c7b0a-593c-4b8e-a460-f09ab9d24362",
   "metadata": {},
   "outputs": [],
   "source": [
    "data.rename(columns = {'ApplicantIncome':'Applicant_Income', 'CoapplicantIncome': 'Coapplicant_Income', 'LoanAmount':'Loan_Amount'}, inplace = True)"
   ]
  },
  {
   "cell_type": "code",
   "execution_count": 7,
   "id": "a701a37a-5017-43e5-b6a1-3437af02d9fd",
   "metadata": {},
   "outputs": [
    {
     "data": {
      "text/plain": [
       "Index(['Loan_ID', 'Gender', 'Married', 'Dependents', 'Education',\n",
       "       'Self_Employed', 'Applicant_Income', 'Coapplicant_Income',\n",
       "       'Loan_Amount', 'Loan_Amount_Term', 'Credit_History', 'Property_Area',\n",
       "       'Loan_Status'],\n",
       "      dtype='object')"
      ]
     },
     "execution_count": 7,
     "metadata": {},
     "output_type": "execute_result"
    }
   ],
   "source": [
    "data.columns"
   ]
  },
  {
   "cell_type": "code",
   "execution_count": 8,
   "id": "559e805f-16fc-4026-b313-491a1701a735",
   "metadata": {},
   "outputs": [],
   "source": [
    "target = ['Loan_Status']\n",
    "ID_feats = ['Loan_ID',] \n",
    "\n",
    "#feature types:\n",
    "\n",
    "num_feats = ['Applicant_Income', 'Coapplicant_Income', 'Loan_Amount', 'Loan_Amount_Term',]\n",
    "\n",
    "ord_cat_feats = [ 'Dependents', 'Education', ]\n",
    "nom_cat_feats = ['Gender', 'Married', 'Self_Employed', 'Credit_History', 'Property_Area',]\n",
    "\n",
    "\n",
    "\n",
    "\n",
    "#create new category values\n",
    "make_new_catval_unk = [  'Credit_History', 'Self_Employed',  'Dependents', 'Gender', 'Married', ] \n",
    "\n",
    "#create new category\n",
    "\n",
    "make_new_cat_unk = [ 'Loan_Amount', 'Loan_Amount_Term',]\n",
    "\n",
    "#if any value is unknown for either feature we make it 'yes')\n",
    "#cat = 'missing_data'; in general we can have several lists of related variables and make a new cat for each list; \n",
    "#name of cat should be specified\n",
    "\n",
    "#imputing\n",
    "\n",
    "impute_mean_feats = ['Loan_Amount']\n",
    "impute_freq_feats = [ 'Loan_Amount_Term']\n",
    "\n",
    "\n",
    "#scaling\n",
    "scaling_feats = ord_cat_feats+num_feats\n",
    "\n",
    "#dummies\n",
    "dummies_feats = nom_cat_feats #default setting of this variable ... \n",
    "#ordinal_encode\n",
    "ord_feats = ord_cat_feats\n",
    "\n",
    "#rest of categoricals get new catgory value 'unk' ... it is not very predictive in most cases ..."
   ]
  },
  {
   "cell_type": "code",
   "execution_count": 9,
   "id": "54531acd-6157-40b6-8b63-583939eafe46",
   "metadata": {},
   "outputs": [],
   "source": [
    "\n",
    "\n",
    "for item in ['0', '1', '2', '3+']:\n",
    "    if item != '3+':\n",
    "        i = int(item)\n",
    "    else:\n",
    "        i = 3\n",
    "    data.loc[data['Dependents'] == item,'Dependents']  = i\n"
   ]
  },
  {
   "cell_type": "code",
   "execution_count": 10,
   "id": "cfe69aee-b624-49d9-9c48-1feb284bcda2",
   "metadata": {},
   "outputs": [],
   "source": [
    "\n",
    "data.loc[data[\"Loan_Status\"] == 'Y', \"Loan_Status\"] = 1\n",
    "data.loc[data[\"Loan_Status\"] == 'N', \"Loan_Status\"] = 0\n",
    "\n"
   ]
  },
  {
   "cell_type": "code",
   "execution_count": 11,
   "id": "886bbd77-fcc9-448a-bb1a-d2d6cc5ba096",
   "metadata": {},
   "outputs": [],
   "source": [
    "\n",
    "data.loc[data['Credit_History'] ==0.0, 'Credit_History'] = 'No'\n",
    "data.loc[data['Credit_History'] == 1.0, 'Credit_History'] = 'Yes'  #I use capitalized \"Yes\", \"No\" to be conistent with their other entries"
   ]
  },
  {
   "cell_type": "code",
   "execution_count": 12,
   "id": "1063d82e-3420-441b-a3da-711426fac445",
   "metadata": {},
   "outputs": [],
   "source": [
    "data.loc[data['Education']=='Not Graduate', \"Education\"] = 0\n",
    "data.loc[data['Education']=='Graduate', \"Education\"] = 1"
   ]
  },
  {
   "cell_type": "code",
   "execution_count": 13,
   "id": "0f8de773-47a7-411c-b436-475b4ed767b4",
   "metadata": {},
   "outputs": [],
   "source": [
    "\n",
    "#we don't want to do this for cat_ord_feats, because those will be numeric; we do impute_most_freq instead\n",
    "for cat in nom_cat_feats:\n",
    "    if data[cat].isnull().sum()>0: \n",
    "        data.loc[data[cat].isnull(), cat] = 'unk'"
   ]
  },
  {
   "cell_type": "code",
   "execution_count": 14,
   "id": "8aa4b520-2f7e-43ff-8195-13213a4af2fc",
   "metadata": {},
   "outputs": [],
   "source": [
    "## These are the two numerical features with NaN .. here we set up two new categories to capture these NaN since\n",
    "## they seem decently predictive. ... Now what to do with the NaN values? I guess just do mean and most-common\n",
    "\n",
    "\n",
    "#data['Loan_Amount_Term_unk'] = 'No' #set default to 'No' then set a few to be 'Yes'\n",
    "\n",
    "#create one new categorical for both (if either or both is unknown)\n",
    "data['missing_data'] = 'No'  \n",
    "data.loc[(data['Loan_Amount_Term'].isnull()) , 'missing_data'] = 'Yes'\n",
    "data.loc[(data['Loan_Amount'].isnull()) , 'missing_data'] = 'Yes'\n",
    "data.loc[(data['Dependents'].isnull()) , 'missing_data'] = 'Yes'\n",
    "\n"
   ]
  },
  {
   "cell_type": "code",
   "execution_count": 15,
   "id": "61fdf942-067d-457c-b293-0e956227a6c7",
   "metadata": {},
   "outputs": [],
   "source": [
    "#update nom_cat_feats (no null values, ok)\n",
    "\n",
    "nom_cat_feats+= ['missing_data']"
   ]
  },
  {
   "cell_type": "markdown",
   "id": "6a682719-f833-44ff-a210-6376ec93a483",
   "metadata": {},
   "source": [
    "#### Done with cleaning categorical features ... \n",
    "note: we have made preliminary decision to make all NaN in categorical columns into new cat_val ... \\\n",
    "we'll see how this works out ... in some cases it seems to be a good predictor.\n",
    "\n",
    "In phase 2 investigation, below, we will investigate the naive predictive strength of all the \\\n",
    "categorical features (including NaN as 'unk')\n"
   ]
  },
  {
   "cell_type": "code",
   "execution_count": 16,
   "id": "ca16fef6-74e2-49a6-a6a5-5d4819fdccc4",
   "metadata": {},
   "outputs": [],
   "source": [
    "##baseline models\n",
    "from sklearn.model_selection import train_test_split # For train/test splits\n",
    "from sklearn.neighbors import KNeighborsClassifier # The k-nearest neighbor classifier\n",
    "from sklearn.feature_selection import VarianceThreshold # Feature selector\n",
    "from sklearn.pipeline import Pipeline # For setting up pipeline\n",
    "# Various pre-processing steps\n",
    "from sklearn.preprocessing import Normalizer, StandardScaler, MinMaxScaler, PowerTransformer, MaxAbsScaler, LabelEncoder\n",
    "\n",
    "from sklearn.model_selection import RepeatedStratifiedKFold\n",
    "from sklearn.model_selection import RandomizedSearchCV\n",
    "\n",
    "from sklearn.model_selection import GridSearchCV # For optimization\n"
   ]
  },
  {
   "cell_type": "code",
   "execution_count": 17,
   "id": "95cd7628-284a-4b6c-9309-8a185b76c1a9",
   "metadata": {},
   "outputs": [],
   "source": [
    "\n",
    "freq_imp = SimpleImputer(missing_values=np.nan,strategy=\"most_frequent\")\n",
    "mean_imp = SimpleImputer(missing_values=np.nan, strategy=\"mean\")\n",
    "scaler = StandardScaler()\n",
    "dummies = OneHotEncoder(handle_unknown='ignore')\n",
    "\n",
    "#other options:\n",
    "#1. create new class that has transform and fit and uses make_dummies instead \n",
    "#2. put a FunctionTransformer() in the pipeline \n",
    "\n",
    "\n",
    "\n",
    "'''cat_impute_most_freq_feats = cat_ord_feats.copy()\n",
    "cat_scale_feats = cat_ord_feats.copy()\n",
    "cat_dummies_feats = cat_nom_feats.copy() \n",
    "num_scale_feats = num_feats.copy()\n",
    "mean_imp_feats = [  'Applicant_Income', 'Coapplicant_Income', 'Loan_Amount']\n",
    "impute_most_freq_feats = ['Loan_Amount_Term',]\n",
    "\n",
    "num_mean_imp_feats = [  'Applicant_Income', 'Coapplicant_Income', 'Loan_Amount']\n",
    "num_impute_most_freq_feats = ['Loan_Amount_Term',]\n",
    "'''\n",
    "\n",
    "\n",
    "#imputing\n",
    "\n",
    "impute_mean_feats = ['Loan_Amount',]\n",
    "impute_freq_feats = [ 'Loan_Amount_Term', 'Dependents']\n",
    "\n",
    "\n",
    "#scaling\n",
    "scaling_feats = ord_cat_feats+num_feats\n",
    "\n",
    "#dummies\n",
    "dummies_feats = nom_cat_feats #default setting of this variable ... \n",
    "#ordinal_encode\n",
    "ord_feats = ord_cat_feats  #done manually at this point\n",
    "\n",
    "preprocess = ColumnTransformer([\n",
    "    ('most_freq_imp', freq_imp, impute_freq_feats),\n",
    "    ('mean_imp', mean_imp, impute_mean_feats), #only one numerical feature has NaN right now\n",
    "    ('scaler', scaler, scaling_feats),\n",
    "    ('dummies', dummies, dummies_feats), \n",
    "])\n",
    "\n",
    "pipeline = Pipeline([\n",
    "    ('preprocess', preprocess),\n",
    "    ('knn', KNeighborsClassifier())\n",
    "])"
   ]
  },
  {
   "cell_type": "code",
   "execution_count": null,
   "id": "011ea416-41cf-4163-bd1f-d395b5818410",
   "metadata": {},
   "outputs": [],
   "source": [
    "#let me now follow https://machinelearningmastery.com/modeling-pipeline-optimization-with-scikit-learn/\n",
    "#which does cv = 3 instead of cv = stratififedkfold( ... )\n",
    "\n",
    "model_feats = ord_cat_feats+nom_cat_feats+num_feats\n",
    "\n",
    "y = data.loc[:, target]\n",
    "X= data.loc[:, model_feats]\n",
    "\n",
    "# Split the data into test and train\n",
    "X_train, X_test, y_train, y_test = train_test_split(\n",
    "    X,  \n",
    "    y, \n",
    "    test_size=1/3,\n",
    "    random_state=0)\n",
    " \n",
    "print(X_train.shape)\n",
    "print(X_test.shape)\n",
    "\n",
    "#np.array(X)"
   ]
  },
  {
   "cell_type": "code",
   "execution_count": null,
   "id": "44bcea01-a536-4726-8ece-648bfa50ed8c",
   "metadata": {},
   "outputs": [],
   "source": [
    "print(target)"
   ]
  },
  {
   "cell_type": "code",
   "execution_count": null,
   "id": "20d169b6-3de0-43c8-bd02-27e8b59285a0",
   "metadata": {},
   "outputs": [],
   "source": [
    "print(model_feats)"
   ]
  },
  {
   "cell_type": "code",
   "execution_count": null,
   "id": "ca0e2015-16db-477d-a9ba-613ad9bef4b5",
   "metadata": {},
   "outputs": [],
   "source": [
    "perc_null(X_train)"
   ]
  },
  {
   "cell_type": "code",
   "execution_count": null,
   "id": "603d3275-38f5-4323-83c4-9bc486fd42ff",
   "metadata": {},
   "outputs": [],
   "source": [
    "preprocess.fit(data)"
   ]
  },
  {
   "cell_type": "code",
   "execution_count": null,
   "id": "960dee34-73a8-4826-b3ca-92178ce83664",
   "metadata": {},
   "outputs": [],
   "source": [
    "preprocess"
   ]
  },
  {
   "cell_type": "code",
   "execution_count": null,
   "id": "bd904b7c-ec70-4a81-88d5-a26c9d2287b2",
   "metadata": {},
   "outputs": [],
   "source": [
    "\n",
    "knn = pipeline.fit(X_train, y_train)\n",
    "print('Training set score: ' + str(knn.score(X_train,y_train)))\n",
    "print('Test set score: ' + str(knn.score(X_test,y_test)))\n"
   ]
  },
  {
   "cell_type": "code",
   "execution_count": null,
   "id": "edb2ae9a-7817-458c-b8a3-b8d7b98d5e05",
   "metadata": {},
   "outputs": [],
   "source": [
    "what ... the fuck... it seems there is an infinite value (or too large)"
   ]
  }
 ],
 "metadata": {
  "kernelspec": {
   "display_name": "Python 3",
   "language": "python",
   "name": "python3"
  },
  "language_info": {
   "codemirror_mode": {
    "name": "ipython",
    "version": 3
   },
   "file_extension": ".py",
   "mimetype": "text/x-python",
   "name": "python",
   "nbconvert_exporter": "python",
   "pygments_lexer": "ipython3",
   "version": "3.8.8"
  }
 },
 "nbformat": 4,
 "nbformat_minor": 5
}
