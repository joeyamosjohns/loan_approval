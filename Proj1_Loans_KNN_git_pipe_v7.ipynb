{
 "cells": [
  {
   "cell_type": "code",
   "execution_count": null,
   "id": "7370a4f0-f6d1-4b93-ac56-f44563653a97",
   "metadata": {},
   "outputs": [],
   "source": []
  },
  {
   "cell_type": "code",
   "execution_count": null,
   "id": "9ca44f2d-0e69-4fae-8af3-47fcf2cc2524",
   "metadata": {},
   "outputs": [],
   "source": [
    "##in this version i will say screw pipelines and just do it without for now ... \n",
    "#maybe I will see what this infinity issue is if I can inspect the resuly of each step manually\n",
    "\n",
    "##I will now follow Julie Michelman and Zac Stewart's approach to pipelines:\n",
    "'''Zac does feature union a lot\n",
    "Julie stays in panda land by creating custom transformers\n",
    "neither uses column transformers'''"
   ]
  },
  {
   "cell_type": "code",
   "execution_count": null,
   "id": "b1560cfb-6589-4bfe-9b8f-8103a1fa7925",
   "metadata": {},
   "outputs": [],
   "source": [
    "##Round 1 cleaning complete. v1 decisions: keep all nan as new feature/value; no skew or outlier action has been taken\n",
    "##Round 1 exploration complete. (a) Distribution of each feature explored (b) feature-target and feature-feature relationships explored \n",
    "\n",
    "##Round 1 modelling Plan: make one model for each notebook, try to do systematic tuning ... take best few models (?) or is it too soon?\n",
    "##then go back and do feature engineering and feature selection based on these base-line models\n",
    "##Build pipe-line: dummies, scaling, tuning ...\n",
    "\n",
    "##next steps:\n",
    "##\n",
    "##Flask API Deployment\n",
    "##build small webpage interaction\n",
    "\n",
    "\n"
   ]
  },
  {
   "cell_type": "markdown",
   "id": "1359efb1-103d-4360-a79d-3fceb18e9e4e",
   "metadata": {},
   "source": [
    "### Tuning of KNN \n",
    "\n",
    "Main parameters: k = num_neighbors, and metric"
   ]
  },
  {
   "cell_type": "code",
   "execution_count": null,
   "id": "8a8ea7be-9e6e-4828-a3b3-c987068772ed",
   "metadata": {},
   "outputs": [],
   "source": [
    "## following https://machinelearningmastery.com/hyperparameters-for-classification-machine-learning-algorithms/"
   ]
  },
  {
   "cell_type": "code",
   "execution_count": null,
   "id": "6d3930bc-de41-4da9-b866-9925090d5c99",
   "metadata": {},
   "outputs": [],
   "source": [
    "##brief review of KNN vs K-means ... \n",
    "##K-means (unspervised) has no labels, just feature space ... you create k-labels (choice of k is tricky and important)\n",
    "##then run thru k-means clustering algorithm to assign k-labels (clusters) to the data \n",
    "##b\n",
    "##KNN (supervised) is simpler because data already comes with p-labels (the role of k is different here) \n",
    "##in the training data on the test data you simply look at the k-nearet neighors (of training set) and take majority vote \n",
    "##on what label to assign to new point. The choice of k is important and the metric can change the outcomes."
   ]
  },
  {
   "cell_type": "code",
   "execution_count": 1,
   "id": "d36736eb-dfca-4e86-9fb5-5ac94b4893b3",
   "metadata": {},
   "outputs": [],
   "source": [
    "import pandas as pd\n",
    "import numpy as np\n",
    "\n",
    "from matplotlib import pyplot as plt\n",
    "\n",
    "from sklearn.preprocessing import FunctionTransformer\n",
    "from sklearn.compose import ColumnTransformer\n",
    "\n",
    "from sklearn.impute import SimpleImputer\n",
    "from sklearn.preprocessing import StandardScaler, RobustScaler, QuantileTransformer, OrdinalEncoder\n",
    "from sklearn.feature_selection import SelectKBest, f_regression\n",
    "from sklearn.decomposition import PCA \n",
    "from sklearn.linear_model import Ridge\n",
    "from sklearn.preprocessing import OneHotEncoder\n",
    "\n",
    "from sklearn.pipeline import Pipeline\n",
    "from sklearn.metrics import accuracy_score, precision_score, recall_score, roc_auc_score, confusion_matrix\n",
    "from sklearn.metrics import mean_absolute_error, mean_squared_error, r2_score, f1_score\n",
    "import seaborn as sns\n",
    "\n",
    "import pickle\n",
    "\n",
    "#sns.set()\n",
    "sns.set(rc={'figure.figsize':(8,5)})\n",
    "\n",
    "#! very useful \n",
    "\n",
    "pd.set_option('display.max_columns', 500)\n"
   ]
  },
  {
   "cell_type": "code",
   "execution_count": 2,
   "id": "480bb674-3d82-4edd-ab40-d9a0549b871c",
   "metadata": {},
   "outputs": [],
   "source": [
    "##baseline models\n",
    "from sklearn.model_selection import train_test_split # For train/test splits\n",
    "from sklearn.neighbors import KNeighborsClassifier # The k-nearest neighbor classifier\n",
    "from sklearn.feature_selection import VarianceThreshold # Feature selector\n",
    "from sklearn.pipeline import Pipeline # For setting up pipeline\n",
    "# Various pre-processing steps\n",
    "from sklearn.preprocessing import Normalizer, StandardScaler, MinMaxScaler, PowerTransformer, MaxAbsScaler, LabelEncoder\n",
    "\n",
    "from sklearn.model_selection import RepeatedStratifiedKFold\n",
    "from sklearn.model_selection import RandomizedSearchCV\n",
    "\n",
    "from sklearn.model_selection import GridSearchCV # For optimization\n"
   ]
  },
  {
   "cell_type": "code",
   "execution_count": 3,
   "id": "504d2b7e-24b6-4be4-b6a8-035ba0005dd4",
   "metadata": {},
   "outputs": [],
   "source": [
    "\n",
    "from sklearn.model_selection import RepeatedStratifiedKFold\n",
    "from sklearn.model_selection import RandomizedSearchCV\n",
    "\n",
    "from sklearn.naive_bayes import GaussianNB\n",
    "from sklearn.linear_model import LogisticRegression \n",
    "from sklearn.ensemble import RandomForestClassifier\n",
    "\n",
    "#rfc = RandomForestClassifier(max_depth=4, random_state=0)\n",
    "#gnb = GaussianNB()\n",
    "#lgc = LogisticRegression()\n"
   ]
  },
  {
   "cell_type": "code",
   "execution_count": 4,
   "id": "98fec286-67d0-43e2-9388-f752a6f0cffc",
   "metadata": {},
   "outputs": [],
   "source": [
    "## cleaning tool\n",
    "\n",
    "\n",
    "def perc_null(X):\n",
    "    \n",
    "    total = X.isnull().sum().sort_values(ascending=False)\n",
    "    data_types = X.dtypes\n",
    "    percent = (X.isnull().sum()/X.isnull().count()).sort_values(ascending=False)\n",
    "\n",
    "    missing_data = pd.concat([total, data_types, percent], axis=1, keys=['Total','Type' ,'Percent'])\n",
    "    return missing_data\n"
   ]
  },
  {
   "cell_type": "code",
   "execution_count": 5,
   "id": "84ed78ec-e3a5-42c6-978d-f79aa86412ad",
   "metadata": {},
   "outputs": [
    {
     "name": "stdout",
     "output_type": "stream",
     "text": [
      "(614, 13)\n"
     ]
    },
    {
     "data": {
      "text/html": [
       "<div>\n",
       "<style scoped>\n",
       "    .dataframe tbody tr th:only-of-type {\n",
       "        vertical-align: middle;\n",
       "    }\n",
       "\n",
       "    .dataframe tbody tr th {\n",
       "        vertical-align: top;\n",
       "    }\n",
       "\n",
       "    .dataframe thead th {\n",
       "        text-align: right;\n",
       "    }\n",
       "</style>\n",
       "<table border=\"1\" class=\"dataframe\">\n",
       "  <thead>\n",
       "    <tr style=\"text-align: right;\">\n",
       "      <th></th>\n",
       "      <th>Loan_ID</th>\n",
       "      <th>Gender</th>\n",
       "      <th>Married</th>\n",
       "      <th>Dependents</th>\n",
       "      <th>Education</th>\n",
       "      <th>Self_Employed</th>\n",
       "      <th>ApplicantIncome</th>\n",
       "      <th>CoapplicantIncome</th>\n",
       "      <th>LoanAmount</th>\n",
       "      <th>Loan_Amount_Term</th>\n",
       "      <th>Credit_History</th>\n",
       "      <th>Property_Area</th>\n",
       "      <th>Loan_Status</th>\n",
       "    </tr>\n",
       "  </thead>\n",
       "  <tbody>\n",
       "    <tr>\n",
       "      <th>0</th>\n",
       "      <td>LP001002</td>\n",
       "      <td>Male</td>\n",
       "      <td>No</td>\n",
       "      <td>0</td>\n",
       "      <td>Graduate</td>\n",
       "      <td>No</td>\n",
       "      <td>5849</td>\n",
       "      <td>0.0</td>\n",
       "      <td>NaN</td>\n",
       "      <td>360.0</td>\n",
       "      <td>1.0</td>\n",
       "      <td>Urban</td>\n",
       "      <td>Y</td>\n",
       "    </tr>\n",
       "    <tr>\n",
       "      <th>1</th>\n",
       "      <td>LP001003</td>\n",
       "      <td>Male</td>\n",
       "      <td>Yes</td>\n",
       "      <td>1</td>\n",
       "      <td>Graduate</td>\n",
       "      <td>No</td>\n",
       "      <td>4583</td>\n",
       "      <td>1508.0</td>\n",
       "      <td>128.0</td>\n",
       "      <td>360.0</td>\n",
       "      <td>1.0</td>\n",
       "      <td>Rural</td>\n",
       "      <td>N</td>\n",
       "    </tr>\n",
       "    <tr>\n",
       "      <th>2</th>\n",
       "      <td>LP001005</td>\n",
       "      <td>Male</td>\n",
       "      <td>Yes</td>\n",
       "      <td>0</td>\n",
       "      <td>Graduate</td>\n",
       "      <td>Yes</td>\n",
       "      <td>3000</td>\n",
       "      <td>0.0</td>\n",
       "      <td>66.0</td>\n",
       "      <td>360.0</td>\n",
       "      <td>1.0</td>\n",
       "      <td>Urban</td>\n",
       "      <td>Y</td>\n",
       "    </tr>\n",
       "  </tbody>\n",
       "</table>\n",
       "</div>"
      ],
      "text/plain": [
       "    Loan_ID Gender Married Dependents Education Self_Employed  \\\n",
       "0  LP001002   Male      No          0  Graduate            No   \n",
       "1  LP001003   Male     Yes          1  Graduate            No   \n",
       "2  LP001005   Male     Yes          0  Graduate           Yes   \n",
       "\n",
       "   ApplicantIncome  CoapplicantIncome  LoanAmount  Loan_Amount_Term  \\\n",
       "0             5849                0.0         NaN             360.0   \n",
       "1             4583             1508.0       128.0             360.0   \n",
       "2             3000                0.0        66.0             360.0   \n",
       "\n",
       "   Credit_History Property_Area Loan_Status  \n",
       "0             1.0         Urban           Y  \n",
       "1             1.0         Rural           N  \n",
       "2             1.0         Urban           Y  "
      ]
     },
     "execution_count": 5,
     "metadata": {},
     "output_type": "execute_result"
    }
   ],
   "source": [
    "path = \"/Users/joejohns/Downloads/data_loans.csv\"\n",
    "\n",
    "data = pd.read_csv(path) \n",
    "print(data.shape)\n",
    "data.head(3)"
   ]
  },
  {
   "cell_type": "markdown",
   "id": "63641633-d69d-4139-b4c9-6c46878e7554",
   "metadata": {},
   "source": [
    "## data processing from round 1\n"
   ]
  },
  {
   "cell_type": "code",
   "execution_count": 6,
   "id": "753f03c8-e92b-4f38-8474-f52e6e5d7f7c",
   "metadata": {},
   "outputs": [
    {
     "data": {
      "text/html": [
       "<div>\n",
       "<style scoped>\n",
       "    .dataframe tbody tr th:only-of-type {\n",
       "        vertical-align: middle;\n",
       "    }\n",
       "\n",
       "    .dataframe tbody tr th {\n",
       "        vertical-align: top;\n",
       "    }\n",
       "\n",
       "    .dataframe thead th {\n",
       "        text-align: right;\n",
       "    }\n",
       "</style>\n",
       "<table border=\"1\" class=\"dataframe\">\n",
       "  <thead>\n",
       "    <tr style=\"text-align: right;\">\n",
       "      <th></th>\n",
       "      <th>Total</th>\n",
       "      <th>Type</th>\n",
       "      <th>Percent</th>\n",
       "    </tr>\n",
       "  </thead>\n",
       "  <tbody>\n",
       "    <tr>\n",
       "      <th>Credit_History</th>\n",
       "      <td>50</td>\n",
       "      <td>float64</td>\n",
       "      <td>0.081433</td>\n",
       "    </tr>\n",
       "    <tr>\n",
       "      <th>Self_Employed</th>\n",
       "      <td>32</td>\n",
       "      <td>object</td>\n",
       "      <td>0.052117</td>\n",
       "    </tr>\n",
       "    <tr>\n",
       "      <th>LoanAmount</th>\n",
       "      <td>22</td>\n",
       "      <td>float64</td>\n",
       "      <td>0.035831</td>\n",
       "    </tr>\n",
       "    <tr>\n",
       "      <th>Dependents</th>\n",
       "      <td>15</td>\n",
       "      <td>object</td>\n",
       "      <td>0.024430</td>\n",
       "    </tr>\n",
       "    <tr>\n",
       "      <th>Loan_Amount_Term</th>\n",
       "      <td>14</td>\n",
       "      <td>float64</td>\n",
       "      <td>0.022801</td>\n",
       "    </tr>\n",
       "    <tr>\n",
       "      <th>Gender</th>\n",
       "      <td>13</td>\n",
       "      <td>object</td>\n",
       "      <td>0.021173</td>\n",
       "    </tr>\n",
       "    <tr>\n",
       "      <th>Married</th>\n",
       "      <td>3</td>\n",
       "      <td>object</td>\n",
       "      <td>0.004886</td>\n",
       "    </tr>\n",
       "    <tr>\n",
       "      <th>Loan_ID</th>\n",
       "      <td>0</td>\n",
       "      <td>object</td>\n",
       "      <td>0.000000</td>\n",
       "    </tr>\n",
       "    <tr>\n",
       "      <th>Education</th>\n",
       "      <td>0</td>\n",
       "      <td>object</td>\n",
       "      <td>0.000000</td>\n",
       "    </tr>\n",
       "    <tr>\n",
       "      <th>ApplicantIncome</th>\n",
       "      <td>0</td>\n",
       "      <td>int64</td>\n",
       "      <td>0.000000</td>\n",
       "    </tr>\n",
       "    <tr>\n",
       "      <th>CoapplicantIncome</th>\n",
       "      <td>0</td>\n",
       "      <td>float64</td>\n",
       "      <td>0.000000</td>\n",
       "    </tr>\n",
       "    <tr>\n",
       "      <th>Property_Area</th>\n",
       "      <td>0</td>\n",
       "      <td>object</td>\n",
       "      <td>0.000000</td>\n",
       "    </tr>\n",
       "    <tr>\n",
       "      <th>Loan_Status</th>\n",
       "      <td>0</td>\n",
       "      <td>object</td>\n",
       "      <td>0.000000</td>\n",
       "    </tr>\n",
       "  </tbody>\n",
       "</table>\n",
       "</div>"
      ],
      "text/plain": [
       "                   Total     Type   Percent\n",
       "Credit_History        50  float64  0.081433\n",
       "Self_Employed         32   object  0.052117\n",
       "LoanAmount            22  float64  0.035831\n",
       "Dependents            15   object  0.024430\n",
       "Loan_Amount_Term      14  float64  0.022801\n",
       "Gender                13   object  0.021173\n",
       "Married                3   object  0.004886\n",
       "Loan_ID                0   object  0.000000\n",
       "Education              0   object  0.000000\n",
       "ApplicantIncome        0    int64  0.000000\n",
       "CoapplicantIncome      0  float64  0.000000\n",
       "Property_Area          0   object  0.000000\n",
       "Loan_Status            0   object  0.000000"
      ]
     },
     "execution_count": 6,
     "metadata": {},
     "output_type": "execute_result"
    }
   ],
   "source": [
    "perc_null(data)\n",
    "\n",
    "    "
   ]
  },
  {
   "cell_type": "code",
   "execution_count": 7,
   "id": "559e805f-16fc-4026-b313-491a1701a735",
   "metadata": {},
   "outputs": [],
   "source": [
    "#fix feature names\n",
    "\n",
    "data.rename(columns = {'ApplicantIncome':'Applicant_Income', 'CoapplicantIncome': 'Coapplicant_Income', 'LoanAmount':'Loan_Amount'}, inplace = True)"
   ]
  },
  {
   "cell_type": "code",
   "execution_count": 8,
   "id": "631c4fb0-4309-4269-bbf7-f7750ad773bd",
   "metadata": {},
   "outputs": [],
   "source": [
    "#fix target; make it numeric; useful for regression modelling\n",
    "\n",
    "data.loc[data[\"Loan_Status\"] == 'Y', \"Loan_Status\"] = 1\n",
    "data.loc[data[\"Loan_Status\"] == 'N', \"Loan_Status\"] = 0\n",
    "\n"
   ]
  },
  {
   "cell_type": "code",
   "execution_count": 9,
   "id": "4b73e4da-77a9-4d88-a5a8-0b702ac04ae5",
   "metadata": {},
   "outputs": [],
   "source": [
    "#fix this nom cat ... float --> string\n",
    "\n",
    "data.loc[data['Credit_History'] ==0.0, 'Credit_History'] = 'No'\n",
    "data.loc[data['Credit_History'] == 1.0, 'Credit_History'] = 'Yes'  #I use capitalized \"Yes\", \"No\" to be conistent with their other entries"
   ]
  },
  {
   "cell_type": "markdown",
   "id": "8809f871-07f7-460a-83f1-9742f8fcfba7",
   "metadata": {},
   "source": [
    "impute_most_freq =[]\n",
    "\n",
    "for feat in numer_feats:\n",
    "    perc_val = data[feat].value_counts()/data.shape[0]\n",
    "    if perc_val.iloc[0] >=0.7:\n",
    "        impute_most_freq+=[feat]\n",
    "    \n",
    "\n",
    "A = set(ord_cat_feats+numer_feats) \n",
    "B = set(nan_feats)\n",
    "C = set(impute_most_freq)\n",
    "impute_mean_feats = list(A-C)"
   ]
  },
  {
   "cell_type": "code",
   "execution_count": 10,
   "id": "f357a59d-6645-45fb-9694-e7ddf4acd0de",
   "metadata": {},
   "outputs": [
    {
     "data": {
      "text/plain": [
       "Index(['Credit_History', 'Self_Employed', 'Loan_Amount', 'Dependents',\n",
       "       'Loan_Amount_Term', 'Gender', 'Married'],\n",
       "      dtype='object')"
      ]
     },
     "execution_count": 10,
     "metadata": {},
     "output_type": "execute_result"
    }
   ],
   "source": [
    "\n",
    "nan_feats = perc_null(data)[ perc_null(data)['Total'] >0].index\n",
    "\n",
    "nan_feats"
   ]
  },
  {
   "cell_type": "code",
   "execution_count": 11,
   "id": "8ed74415-1b8f-4096-9b53-28c8373910a2",
   "metadata": {},
   "outputs": [],
   "source": [
    "\n",
    "nan_feats = ['Credit_History', 'Self_Employed', 'Gender', 'Married'     # nom_cat ---> Nan = new cat_val (Nans gone check)\n",
    "          'Loan_Amount',    #record in unk_cat and impute mean\n",
    "             'Dependents', 'Loan_Amount_Term' ]   #record in unk_cat and impute most_freq \n",
    "\n",
    "\n",
    "\n",
    "\n",
    "target = ['Loan_Status']\n",
    "ID_feats = ['Loan_ID',] \n",
    "\n",
    "nan_feats = list(perc_null(data)[ perc_null(data)['Total'] >0].index) \n",
    "#nan_feats\n",
    "\n",
    "#feature types (this must be done manually ... although data types would give a pretty good approximation)\n",
    "\n",
    "numer_feats = ['Applicant_Income', 'Coapplicant_Income', 'Loan_Amount', 'Loan_Amount_Term',]\n",
    "\n",
    "\n",
    "ord_cat_feats = [ 'Dependents', 'Education', ]\n",
    "ord_labels = [ [ '0','1','2','3+' ], ['Not Graduate', 'Graduate']]  #consistent with order of categories in ord_cat_feats (and in df)\n",
    "\n",
    "nom_cat_feats = ['Gender', 'Married', 'Self_Employed', 'Credit_History', 'Property_Area',]\n",
    "add_dummy_nan = ['Credit_History','Self_Employed','Gender', 'Married']  #dealing with nom_cat_nan\n",
    "\n",
    "impute_freq_feats = ['Loan_Amount_Term', 'Dependents' ]  #how can we identify this automatically? It's a cts var where over X% of values = one value \n",
    "impute_mean_feats = ['Loan_Amount']     #dealing with nan in numer and ord_cat\n",
    " \n",
    "unk_cat_feats = [ 'Loan_Amount', 'Loan_Amount_Term', 'Dependents' ] #make new category for these 'unk' = yes/no; ##impute by mean\n",
    "#tracking nans which were lost by imputation \n",
    "\n",
    "\n",
    "scale_feats = ord_cat_feats+numer_feats\n",
    "dummies_feats = ['Property_Area','missing_data']+['Credit_History', 'Self_Employed', 'Gender', 'Married',]  #regular dummies\n",
    "\n"
   ]
  },
  {
   "cell_type": "code",
   "execution_count": null,
   "id": "bd966d5d-20a3-4b7d-8f67-b040a9a709e0",
   "metadata": {},
   "outputs": [],
   "source": [
    "#change all nan to 'unk' in the categoricals ...\n",
    "#for feat in set(nan_feats)&set(dummies_feats):\n",
    "#    data.loc[data[feat].isnull(),  feat ] = 'unk'"
   ]
  },
  {
   "cell_type": "markdown",
   "id": "9eadb76f-a042-4007-9da8-24a654080336",
   "metadata": {},
   "source": [
    "##eventually perhaps we can make this into a class that can be used in a pipe line ... \n",
    "\n",
    "#step 1. create new categorical (records if any null values in any of specified cats)\n",
    "\n",
    "def update_missing(x, feature):\n",
    "    if x == 'No':\n",
    "        return feature\n",
    "    else: \n",
    "        return x+'&'+feature\n",
    "\n",
    "data['missing_data'] = 'No'  \n",
    "for feature in unk_cat_feats:\n",
    "    data.loc[(data[feature].isnull()) , 'missing_data'] = data.loc[(data[feature].isnull()) , 'missing_data'].map(lambda x: update_missing(x, feature))\n",
    "\n",
    "    \n",
    "nom_cat_feats+=['missing_data']"
   ]
  },
  {
   "cell_type": "code",
   "execution_count": null,
   "id": "21bbe255-7810-481d-b8fb-440a213c4118",
   "metadata": {},
   "outputs": [],
   "source": [
    "#testing len(data.loc[(data['Education'].isnull()), 'Education'])"
   ]
  },
  {
   "cell_type": "code",
   "execution_count": 16,
   "id": "12c0f3da-67a1-4e54-8ca0-22fa99b02534",
   "metadata": {},
   "outputs": [],
   "source": [
    "unk_cat_dummies = ['missing_'+x for x in unk_cat_feats]"
   ]
  },
  {
   "cell_type": "code",
   "execution_count": 17,
   "id": "dcaa3458-adaf-4cbe-acf1-b98259f39d25",
   "metadata": {},
   "outputs": [
    {
     "data": {
      "text/plain": [
       "['missing_Loan_Amount', 'missing_Loan_Amount_Term', 'missing_Dependents']"
      ]
     },
     "execution_count": 17,
     "metadata": {},
     "output_type": "execute_result"
    }
   ],
   "source": [
    "unk_cat_dummies"
   ]
  },
  {
   "cell_type": "code",
   "execution_count": 12,
   "id": "d85741bb-7a73-41ec-a84c-415dfa5242f1",
   "metadata": {},
   "outputs": [],
   "source": [
    "for feature in unk_cat_feats:\n",
    "    if len(data.loc[(data[feature].isnull()), :].count()) > 0:\n",
    "        data['missing_'+feature] = 0  #dummy var\n",
    "        data.loc[(data[feature].isnull()) , 'missing_'+feature] = 1"
   ]
  },
  {
   "cell_type": "code",
   "execution_count": 13,
   "id": "f4139e37-c7ea-4025-8c32-1ecfb2f69b52",
   "metadata": {},
   "outputs": [
    {
     "name": "stdout",
     "output_type": "stream",
     "text": [
      "0    592\n",
      "1     22\n",
      "Name: missing_Loan_Amount, dtype: int64\n",
      "0    600\n",
      "1     14\n",
      "Name: missing_Loan_Amount_Term, dtype: int64\n",
      "0    599\n",
      "1     15\n",
      "Name: missing_Dependents, dtype: int64\n"
     ]
    }
   ],
   "source": [
    "for feature in unk_cat_feats:\n",
    "    print(data['missing_'+feature].value_counts())"
   ]
  },
  {
   "cell_type": "markdown",
   "id": "6034bfb5-9898-424a-bff3-2b8d5754f686",
   "metadata": {},
   "source": [
    "##now we execute all imputing and scaling ... bruh\n",
    "\n",
    "\n",
    "#steps:\n",
    "\n",
    "#1. DONE create new cat recording if NaN in specified numeric or nominal features \n",
    "#(do this before imputing of course)\n",
    "\n",
    "#numeric and nominal: \n",
    "#2. impute most_freq (Loan_Term)\n",
    "#3. impute mean (everyone else)\n",
    "#4. scale by max, min (or by mean; try both)\n",
    "\n",
    "#nominal cats:\n",
    "#5. get_dummies, nan yes\n",
    "#6. get_dummies, nan no\n",
    "\n",
    "#perc_null(data)"
   ]
  },
  {
   "cell_type": "code",
   "execution_count": 15,
   "id": "b9c6dd0e-ee50-45fb-9804-ce315a1becc7",
   "metadata": {},
   "outputs": [
    {
     "data": {
      "text/plain": [
       "{'Applicant_Income',\n",
       " 'Coapplicant_Income',\n",
       " 'Credit_History',\n",
       " 'Dependents',\n",
       " 'Education',\n",
       " 'Gender',\n",
       " 'Loan_Amount',\n",
       " 'Loan_Amount_Term',\n",
       " 'Loan_ID',\n",
       " 'Loan_Status',\n",
       " 'Married',\n",
       " 'Property_Area',\n",
       " 'Self_Employed',\n",
       " 'missing_Dependents',\n",
       " 'missing_Loan_Amount',\n",
       " 'missing_Loan_Amount_Term'}"
      ]
     },
     "execution_count": 15,
     "metadata": {},
     "output_type": "execute_result"
    }
   ],
   "source": [
    "set(data.columns)"
   ]
  },
  {
   "cell_type": "code",
   "execution_count": null,
   "id": "ef4733ae-b50d-4629-95cb-d58fb49fe11a",
   "metadata": {},
   "outputs": [],
   "source": [
    "model_feats = list(set(data.columns+unk_cat_dummies) - set(target+ID_feats))\n"
   ]
  },
  {
   "cell_type": "code",
   "execution_count": null,
   "id": "869994bb-9563-4777-a292-f9b66f5afbd1",
   "metadata": {},
   "outputs": [],
   "source": [
    "model_feats"
   ]
  },
  {
   "cell_type": "code",
   "execution_count": null,
   "id": "df067ddd-b9f2-40ac-9223-d094b5e4d15b",
   "metadata": {},
   "outputs": [],
   "source": [
    "##now let's make a pipe line ... first with the normal skl functions ... then with my functions "
   ]
  },
  {
   "cell_type": "code",
   "execution_count": null,
   "id": "640b75c0-5778-4d3f-ad9c-f3531f4db502",
   "metadata": {},
   "outputs": [],
   "source": [
    "import numpy as np\n",
    "import pandas as pd\n",
    "\n",
    "from sklearn.compose import ColumnTransformer\n",
    "from sklearn.impute import SimpleImputer\n",
    "from sklearn.pipeline import Pipeline\n",
    "from sklearn.preprocessing import OneHotEncoder, OrdinalEncoder\n",
    "from sklearn.preprocessing import MinMaxScaler, StandardScaler\n"
   ]
  },
  {
   "cell_type": "markdown",
   "id": "4aefb97e-d9fb-483a-a4ad-23e5cf1bcc6f",
   "metadata": {},
   "source": [
    "\n",
    "preprocessor = ColumnTransformer([\n",
    "('impute_most_freq', impute_most_freq, impute_freq_feats), \n",
    "('impute_mean', impute_mean, impute_mean_feats),     \n",
    "('ordinals', ordinals, ord_cat_feats),\n",
    "])"
   ]
  },
  {
   "cell_type": "markdown",
   "id": "d1b7b0d4-2373-4a59-99d3-7a3b2c3e0c49",
   "metadata": {},
   "source": [
    "Steps I will follow\n",
    "\n",
    "- make new dummy_vars for the non nom_cat missing NaN  #this tracks all missing NaN for us ... is it worth all the dummies? Make numeric/ordinal?\n",
    "- ordinal encode (NaN just leave for now; impute plus recorded in new_cat ... does not make sense to make ordinal Nan ... -1? no)\n",
    "- dummies (Nan ---> new cat val) # must come after make new cat ... \n",
    "- impute (freq = ord plus numer1; mean numer2)  # must come after ordinal encode \n",
    "- scale (numer and ord ... X ---> X/|max X|).   # I think X --> X - X_min is an unneccsary distortion\n",
    "\n"
   ]
  },
  {
   "cell_type": "code",
   "execution_count": null,
   "id": "f41cfc49-5f27-4d7b-807b-a8f908a59be5",
   "metadata": {},
   "outputs": [],
   "source": [
    "\n",
    "class DFOrdinalEncoder(TransformerMixin):  #transformerMixin just gives us fit_transform automatically\n",
    "    # FunctionTransformer but for pandas DataFrames\n",
    "\n",
    "    def __init__(self, *args, **kwargs):\n",
    "        self.ft = FunctionTransformer(*args, **kwargs)\n",
    "\n",
    "    def fit(self, X, y=None):\n",
    "        # stateless transformer\n",
    "        return self\n",
    "\n",
    "    def transform(self, X):\n",
    "        Xt = self.ft.transform(X)\n",
    "        Xt = pd.DataFrame(Xt, index=X.index, columns=X.columns)\n",
    "        return Xt"
   ]
  },
  {
   "cell_type": "code",
   "execution_count": null,
   "id": "593683d8-3cc6-4e3d-9e44-51a695ec057a",
   "metadata": {},
   "outputs": [],
   "source": []
  },
  {
   "cell_type": "code",
   "execution_count": null,
   "id": "a36601cd-067d-44da-91a7-dc592f4848df",
   "metadata": {},
   "outputs": [],
   "source": []
  },
  {
   "cell_type": "code",
   "execution_count": null,
   "id": "011ea416-41cf-4163-bd1f-d395b5818410",
   "metadata": {},
   "outputs": [],
   "source": [
    "#let me now follow https://machinelearningmastery.com/modeling-pipeline-optimization-with-scikit-learn/\n",
    "#which does cv = 3 instead of cv = stratififedkfold( ... )\n",
    "\n",
    "\n",
    "y = data_mean.loc[:, target]\n",
    "X= data_mean.loc[:, model_feats]\n",
    "y = y.astype(int)\n",
    "# Split the data into test and train\n",
    "X_train, X_test, y_train, y_test = train_test_split(\n",
    "    X,  \n",
    "    y, \n",
    "    test_size=1/3,\n",
    "    random_state=0)\n",
    " \n",
    "print(X_train.shape)\n",
    "print(X_test.shape)\n",
    "\n",
    "#np.array(X)"
   ]
  },
  {
   "cell_type": "code",
   "execution_count": null,
   "id": "54d3b09a-ed5b-4321-9826-9de479282289",
   "metadata": {},
   "outputs": [],
   "source": [
    "X_train"
   ]
  },
  {
   "cell_type": "code",
   "execution_count": null,
   "id": "5582b265-decb-4559-9526-0c4cbe68637f",
   "metadata": {},
   "outputs": [],
   "source": [
    "knn = KNeighborsClassifier()\n",
    "\n",
    "knn.fit(X_train, np.ravel(y_train))"
   ]
  },
  {
   "cell_type": "code",
   "execution_count": null,
   "id": "7ea3f87c-5c84-4380-b452-0a8a19906f66",
   "metadata": {},
   "outputs": [],
   "source": [
    "knn.score(X_test, np.ravel(y_test))  #77% ? shitty! ha ha was 80% in my original version"
   ]
  },
  {
   "cell_type": "code",
   "execution_count": null,
   "id": "e9d58e4c-d0a1-44ab-bb90-596a75e627d6",
   "metadata": {},
   "outputs": [],
   "source": [
    "##Sat Sept 18, 1:30 pm ... make pipe line? or do tuning and feature selection? "
   ]
  },
  {
   "cell_type": "code",
   "execution_count": null,
   "id": "f57a9cea-98b6-48b5-a0a9-f7e971cf4b36",
   "metadata": {},
   "outputs": [],
   "source": [
    "\n",
    "from sklearn.naive_bayes import GaussianNB\n",
    "from sklearn.linear_model import LogisticRegression \n",
    "from sklearn.ensemble import RandomForestClassifier\n",
    "\n",
    "rfc = RandomForestClassifier(max_depth=4, random_state=0)\n",
    "gnb = GaussianNB()\n",
    "lgc = LogisticRegression()\n"
   ]
  },
  {
   "cell_type": "code",
   "execution_count": null,
   "id": "96a3945a-6fff-4544-95c8-544240126f37",
   "metadata": {},
   "outputs": [],
   "source": [
    "\n",
    "rfc.fit(X_train, np.ravel(y_train))"
   ]
  },
  {
   "cell_type": "code",
   "execution_count": null,
   "id": "5bac71bd-fe79-4347-8ce2-a90f42907937",
   "metadata": {},
   "outputs": [],
   "source": [
    "rfc.score(X_test, np.ravel(y_test))  ##aha! I used rfc before and it IS improved to 82% ... cool. That makes me feel better ... (all that effort should not make it worse)"
   ]
  },
  {
   "cell_type": "code",
   "execution_count": null,
   "id": "8f1c8a26-ab46-4119-95d1-8b607d9a7ee3",
   "metadata": {},
   "outputs": [],
   "source": [
    "\n",
    "lgc.fit(X_train, np.ravel(y_train))"
   ]
  },
  {
   "cell_type": "code",
   "execution_count": null,
   "id": "28d30bba-3df5-4ef6-835d-c8bbea2f38a6",
   "metadata": {},
   "outputs": [],
   "source": [
    "lgc.score(X_test, np.ravel(y_test))  ##aha! I used rfc before and it IS improved to 82% ... cool. That makes me feel better ... (all that effort should not make it worse)"
   ]
  },
  {
   "cell_type": "code",
   "execution_count": null,
   "id": "7335f49f-5b0b-485f-8aaf-50d2d8fa91a6",
   "metadata": {},
   "outputs": [],
   "source": []
  }
 ],
 "metadata": {
  "kernelspec": {
   "display_name": "Python 3",
   "language": "python",
   "name": "python3"
  },
  "language_info": {
   "codemirror_mode": {
    "name": "ipython",
    "version": 3
   },
   "file_extension": ".py",
   "mimetype": "text/x-python",
   "name": "python",
   "nbconvert_exporter": "python",
   "pygments_lexer": "ipython3",
   "version": "3.8.8"
  }
 },
 "nbformat": 4,
 "nbformat_minor": 5
}
