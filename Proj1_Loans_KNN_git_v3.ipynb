{
 "cells": [
  {
   "cell_type": "code",
   "execution_count": null,
   "id": "9ca44f2d-0e69-4fae-8af3-47fcf2cc2524",
   "metadata": {},
   "outputs": [],
   "source": [
    "##in this version i will say screw pipelines and just do it without for now ... \n",
    "#maybe I will see what this infinity issue is if I can inspect the resuly of each step manually"
   ]
  },
  {
   "cell_type": "code",
   "execution_count": null,
   "id": "b1560cfb-6589-4bfe-9b8f-8103a1fa7925",
   "metadata": {},
   "outputs": [],
   "source": [
    "##Round 1 cleaning complete. v1 decisions: keep all nan as new feature/value; no skew or outlier action has been taken\n",
    "##Round 1 exploration complete. (a) Distribution of each feature explored (b) feature-target and feature-feature relationships explored \n",
    "\n",
    "##Round 1 modelling Plan: make one model for each notebook, try to do systematic tuning ... take best few models (?) or is it too soon?\n",
    "##then go back and do feature engineering and feature selection based on these base-line models\n",
    "##Build pipe-line: dummies, scaling, tuning ...\n",
    "\n",
    "##next steps:\n",
    "##\n",
    "##Flask API Deployment\n",
    "##build small webpage interaction\n"
   ]
  },
  {
   "cell_type": "markdown",
   "id": "1359efb1-103d-4360-a79d-3fceb18e9e4e",
   "metadata": {},
   "source": [
    "### Tuning of KNN \n",
    "\n",
    "Main parameters: k = num_neighbors, and metric"
   ]
  },
  {
   "cell_type": "code",
   "execution_count": null,
   "id": "8a8ea7be-9e6e-4828-a3b3-c987068772ed",
   "metadata": {},
   "outputs": [],
   "source": [
    "## following https://machinelearningmastery.com/hyperparameters-for-classification-machine-learning-algorithms/"
   ]
  },
  {
   "cell_type": "code",
   "execution_count": null,
   "id": "6d3930bc-de41-4da9-b866-9925090d5c99",
   "metadata": {},
   "outputs": [],
   "source": [
    "##brief review of KNN vs K-means ... \n",
    "##K-means (unspervised) has no labels, just feature space ... you create k-labels (choice of k is tricky and important)\n",
    "##then run thru k-means clustering algorithm to assign k-labels (clusters) to the data \n",
    "##b\n",
    "##KNN (supervised) is simpler because data already comes with p-labels (the role of k is different here) \n",
    "##in the training data on the test data you simply look at the k-nearet neighors (of training set) and take majority vote \n",
    "##on what label to assign to new point. The choice of k is important and the metric can change the outcomes."
   ]
  },
  {
   "cell_type": "code",
   "execution_count": 40,
   "id": "d36736eb-dfca-4e86-9fb5-5ac94b4893b3",
   "metadata": {},
   "outputs": [],
   "source": [
    "import pandas as pd\n",
    "import numpy as np\n",
    "\n",
    "from matplotlib import pyplot as plt\n",
    "\n",
    "from sklearn.preprocessing import FunctionTransformer\n",
    "from sklearn.compose import ColumnTransformer\n",
    "\n",
    "from sklearn.impute import SimpleImputer\n",
    "from sklearn.preprocessing import StandardScaler, RobustScaler, QuantileTransformer, OrdinalEncoder\n",
    "from sklearn.feature_selection import SelectKBest, f_regression\n",
    "from sklearn.decomposition import PCA \n",
    "from sklearn.linear_model import Ridge\n",
    "from sklearn.preprocessing import OneHotEncoder\n",
    "\n",
    "from sklearn.pipeline import Pipeline\n",
    "from sklearn.metrics import accuracy_score, precision_score, recall_score, roc_auc_score, confusion_matrix\n",
    "from sklearn.metrics import mean_absolute_error, mean_squared_error, r2_score, f1_score\n",
    "import seaborn as sns\n",
    "\n",
    "import pickle\n",
    "\n",
    "#sns.set()\n",
    "sns.set(rc={'figure.figsize':(8,5)})\n",
    "\n"
   ]
  },
  {
   "cell_type": "code",
   "execution_count": 41,
   "id": "98fec286-67d0-43e2-9388-f752a6f0cffc",
   "metadata": {},
   "outputs": [],
   "source": [
    "## cleaning tool\n",
    "\n",
    "\n",
    "def perc_null(X):\n",
    "    \n",
    "    total = X.isnull().sum().sort_values(ascending=False)\n",
    "    data_types = X.dtypes\n",
    "    percent = (X.isnull().sum()/X.isnull().count()).sort_values(ascending=False)\n",
    "\n",
    "    missing_data = pd.concat([total, data_types, percent], axis=1, keys=['Total','Type' ,'Percent'])\n",
    "    return missing_data\n"
   ]
  },
  {
   "cell_type": "code",
   "execution_count": 42,
   "id": "84ed78ec-e3a5-42c6-978d-f79aa86412ad",
   "metadata": {},
   "outputs": [
    {
     "name": "stdout",
     "output_type": "stream",
     "text": [
      "(614, 13)\n"
     ]
    },
    {
     "data": {
      "text/html": [
       "<div>\n",
       "<style scoped>\n",
       "    .dataframe tbody tr th:only-of-type {\n",
       "        vertical-align: middle;\n",
       "    }\n",
       "\n",
       "    .dataframe tbody tr th {\n",
       "        vertical-align: top;\n",
       "    }\n",
       "\n",
       "    .dataframe thead th {\n",
       "        text-align: right;\n",
       "    }\n",
       "</style>\n",
       "<table border=\"1\" class=\"dataframe\">\n",
       "  <thead>\n",
       "    <tr style=\"text-align: right;\">\n",
       "      <th></th>\n",
       "      <th>Loan_ID</th>\n",
       "      <th>Gender</th>\n",
       "      <th>Married</th>\n",
       "      <th>Dependents</th>\n",
       "      <th>Education</th>\n",
       "      <th>Self_Employed</th>\n",
       "      <th>ApplicantIncome</th>\n",
       "      <th>CoapplicantIncome</th>\n",
       "      <th>LoanAmount</th>\n",
       "      <th>Loan_Amount_Term</th>\n",
       "      <th>Credit_History</th>\n",
       "      <th>Property_Area</th>\n",
       "      <th>Loan_Status</th>\n",
       "    </tr>\n",
       "  </thead>\n",
       "  <tbody>\n",
       "    <tr>\n",
       "      <th>0</th>\n",
       "      <td>LP001002</td>\n",
       "      <td>Male</td>\n",
       "      <td>No</td>\n",
       "      <td>0</td>\n",
       "      <td>Graduate</td>\n",
       "      <td>No</td>\n",
       "      <td>5849</td>\n",
       "      <td>0.0</td>\n",
       "      <td>NaN</td>\n",
       "      <td>360.0</td>\n",
       "      <td>1.0</td>\n",
       "      <td>Urban</td>\n",
       "      <td>Y</td>\n",
       "    </tr>\n",
       "    <tr>\n",
       "      <th>1</th>\n",
       "      <td>LP001003</td>\n",
       "      <td>Male</td>\n",
       "      <td>Yes</td>\n",
       "      <td>1</td>\n",
       "      <td>Graduate</td>\n",
       "      <td>No</td>\n",
       "      <td>4583</td>\n",
       "      <td>1508.0</td>\n",
       "      <td>128.0</td>\n",
       "      <td>360.0</td>\n",
       "      <td>1.0</td>\n",
       "      <td>Rural</td>\n",
       "      <td>N</td>\n",
       "    </tr>\n",
       "    <tr>\n",
       "      <th>2</th>\n",
       "      <td>LP001005</td>\n",
       "      <td>Male</td>\n",
       "      <td>Yes</td>\n",
       "      <td>0</td>\n",
       "      <td>Graduate</td>\n",
       "      <td>Yes</td>\n",
       "      <td>3000</td>\n",
       "      <td>0.0</td>\n",
       "      <td>66.0</td>\n",
       "      <td>360.0</td>\n",
       "      <td>1.0</td>\n",
       "      <td>Urban</td>\n",
       "      <td>Y</td>\n",
       "    </tr>\n",
       "  </tbody>\n",
       "</table>\n",
       "</div>"
      ],
      "text/plain": [
       "    Loan_ID Gender Married Dependents Education Self_Employed  \\\n",
       "0  LP001002   Male      No          0  Graduate            No   \n",
       "1  LP001003   Male     Yes          1  Graduate            No   \n",
       "2  LP001005   Male     Yes          0  Graduate           Yes   \n",
       "\n",
       "   ApplicantIncome  CoapplicantIncome  LoanAmount  Loan_Amount_Term  \\\n",
       "0             5849                0.0         NaN             360.0   \n",
       "1             4583             1508.0       128.0             360.0   \n",
       "2             3000                0.0        66.0             360.0   \n",
       "\n",
       "   Credit_History Property_Area Loan_Status  \n",
       "0             1.0         Urban           Y  \n",
       "1             1.0         Rural           N  \n",
       "2             1.0         Urban           Y  "
      ]
     },
     "execution_count": 42,
     "metadata": {},
     "output_type": "execute_result"
    }
   ],
   "source": [
    "path = \"/Users/joejohns/Downloads/data_loans.csv\"\n",
    "\n",
    "data = pd.read_csv(path) \n",
    "print(data.shape)\n",
    "data.head(3)"
   ]
  },
  {
   "cell_type": "markdown",
   "id": "63641633-d69d-4139-b4c9-6c46878e7554",
   "metadata": {},
   "source": [
    "## data processing from round 1\n"
   ]
  },
  {
   "cell_type": "code",
   "execution_count": 43,
   "id": "753f03c8-e92b-4f38-8474-f52e6e5d7f7c",
   "metadata": {},
   "outputs": [
    {
     "data": {
      "text/plain": [
       "Index(['Credit_History', 'Self_Employed', 'LoanAmount', 'Dependents',\n",
       "       'Loan_Amount_Term', 'Gender', 'Married', 'Loan_ID', 'Education',\n",
       "       'ApplicantIncome', 'CoapplicantIncome', 'Property_Area', 'Loan_Status'],\n",
       "      dtype='object')"
      ]
     },
     "execution_count": 43,
     "metadata": {},
     "output_type": "execute_result"
    }
   ],
   "source": [
    "perc_null(data).index\n",
    "\n",
    "    "
   ]
  },
  {
   "cell_type": "code",
   "execution_count": 44,
   "id": "f80c7b0a-593c-4b8e-a460-f09ab9d24362",
   "metadata": {},
   "outputs": [],
   "source": [
    "data.rename(columns = {'ApplicantIncome':'Applicant_Income', 'CoapplicantIncome': 'Coapplicant_Income', 'LoanAmount':'Loan_Amount'}, inplace = True)"
   ]
  },
  {
   "cell_type": "code",
   "execution_count": 45,
   "id": "559e805f-16fc-4026-b313-491a1701a735",
   "metadata": {},
   "outputs": [],
   "source": [
    "target = ['Loan_Status']\n",
    "ID_feats = ['Loan_ID',] \n",
    "\n",
    "#feature types:\n",
    "\n",
    "num_feats = ['Applicant_Income', 'Coapplicant_Income', 'Loan_Amount', 'Loan_Amount_Term',]\n",
    "\n",
    "ord_cat_feats = [ 'Dependents', 'Education', ]\n",
    "nom_cat_feats = ['Gender', 'Married', 'Self_Employed', 'Credit_History', 'Property_Area',]\n",
    "\n"
   ]
  },
  {
   "cell_type": "code",
   "execution_count": 46,
   "id": "fdace83f-3706-4e64-b722-404e5008c8af",
   "metadata": {},
   "outputs": [],
   "source": [
    "##fix ordinal cats (write general function which does this, no ordinal encoder)\n",
    "for item in ['0', '1', '2', '3+']:\n",
    "    if item != '3+':\n",
    "        i = int(item)\n",
    "    else:\n",
    "        i = 3\n",
    "    data.loc[data['Dependents'] == item,'Dependents']  = i\n"
   ]
  },
  {
   "cell_type": "code",
   "execution_count": 53,
   "id": "631c4fb0-4309-4269-bbf7-f7750ad773bd",
   "metadata": {},
   "outputs": [],
   "source": [
    "#fix target; make it numeric; useful for regression modelling\n",
    "\n",
    "data.loc[data[\"Loan_Status\"] == 'Y', \"Loan_Status\"] = 1\n",
    "data.loc[data[\"Loan_Status\"] == 'N', \"Loan_Status\"] = 0\n",
    "\n"
   ]
  },
  {
   "cell_type": "code",
   "execution_count": 54,
   "id": "4b73e4da-77a9-4d88-a5a8-0b702ac04ae5",
   "metadata": {},
   "outputs": [],
   "source": [
    "#fix this nom cat ... float --> string\n",
    "\n",
    "data.loc[data['Credit_History'] ==0.0, 'Credit_History'] = 'No'\n",
    "data.loc[data['Credit_History'] == 1.0, 'Credit_History'] = 'Yes'  #I use capitalized \"Yes\", \"No\" to be conistent with their other entries"
   ]
  },
  {
   "cell_type": "code",
   "execution_count": 47,
   "id": "7496c6e1-90b7-4411-b98f-8e778a683a9d",
   "metadata": {},
   "outputs": [],
   "source": [
    "#turn this into ordinal cat\n",
    "\n",
    "data.loc[data['Education']=='Not Graduate', \"Education\"] = 0\n",
    "data.loc[data['Education']=='Graduate', \"Education\"] = 1"
   ]
  },
  {
   "cell_type": "code",
   "execution_count": 49,
   "id": "804b83ea-e508-4cb1-84d9-d0632c16a5d8",
   "metadata": {},
   "outputs": [],
   "source": [
    "\n",
    "#create one new categorical for both (if either or both is unknown)\n",
    "data['missing_data'] = 'No'  \n",
    "for feature in num_ord_nan:\n",
    "    data.loc[(data[feature].isnull()) , 'missing_data'] = 'Yes'\n",
    "\n",
    "    \n"
   ]
  },
  {
   "cell_type": "code",
   "execution_count": 55,
   "id": "6343741a-2797-4aa6-b9f9-9cd4e543df0f",
   "metadata": {},
   "outputs": [],
   "source": [
    "#update nom_cat_feats (no null values, ok)\n",
    "\n",
    "nom_cat_feats+= ['missing_data']"
   ]
  },
  {
   "cell_type": "code",
   "execution_count": 48,
   "id": "a1aeed11-089b-492f-bc10-de5379a04432",
   "metadata": {},
   "outputs": [],
   "source": [
    "#set up some feature lists for imputing and scaling \n",
    "\n",
    "num_ord_feats = ord_cat_feats+num_feats\n",
    "\n",
    "#can make a for loop that extracts these ... \n",
    "num_ord_nan_new_cat = [ 'Loan_Amount', 'Loan_Amount_Term', 'Dependents', ] #make new category for these 'unk' = yes/no; ##impute by mean\n",
    "nom_cat_nan_dummies = ['Credit_History', 'Self_Employed', 'Gender', 'Married',]  ##make new dumies cat_val for nan\n",
    "nom_cat_dummies = ['Property_Area',]  #regular dummies\n",
    "\n",
    "\n"
   ]
  },
  {
   "cell_type": "markdown",
   "id": "6a682719-f833-44ff-a210-6376ec93a483",
   "metadata": {},
   "source": [
    "#### Done with cleaning categorical features ... \n",
    "note: we have made preliminary decision to make all NaN in categorical columns into new cat_val ... \\\n",
    "we'll see how this works out ... in some cases it seems to be a good predictor.\n",
    "\n",
    "In phase 2 investigation, below, we will investigate the naive predictive strength of all the \\\n",
    "categorical features (including NaN as 'unk')\n"
   ]
  },
  {
   "cell_type": "code",
   "execution_count": null,
   "id": "ca16fef6-74e2-49a6-a6a5-5d4819fdccc4",
   "metadata": {},
   "outputs": [],
   "source": [
    "##baseline models\n",
    "from sklearn.model_selection import train_test_split # For train/test splits\n",
    "from sklearn.neighbors import KNeighborsClassifier # The k-nearest neighbor classifier\n",
    "from sklearn.feature_selection import VarianceThreshold # Feature selector\n",
    "from sklearn.pipeline import Pipeline # For setting up pipeline\n",
    "# Various pre-processing steps\n",
    "from sklearn.preprocessing import Normalizer, StandardScaler, MinMaxScaler, PowerTransformer, MaxAbsScaler, LabelEncoder\n",
    "\n",
    "from sklearn.model_selection import RepeatedStratifiedKFold\n",
    "from sklearn.model_selection import RandomizedSearchCV\n",
    "\n",
    "from sklearn.model_selection import GridSearchCV # For optimization\n"
   ]
  },
  {
   "cell_type": "code",
   "execution_count": null,
   "id": "8baa6f05-86b2-4c7c-9ec3-c3fbaff43325",
   "metadata": {},
   "outputs": [],
   "source": [
    "pd.get_dummies(data, columns = nom_cat_feats)"
   ]
  },
  {
   "cell_type": "code",
   "execution_count": 35,
   "id": "67643541-c02f-4014-8ece-86159243d99e",
   "metadata": {},
   "outputs": [],
   "source": [
    "\n",
    "class DataframeTransformer():\n",
    "    def __init__(self, func):\n",
    "        self.func = func\n",
    "\n",
    "    def transform(self, input_df, **transform_params):\n",
    "        return self.func(input_df)\n",
    "\n",
    "    def fit(self, X, y=None, **fit_params):\n",
    "        return self\n",
    "\n",
    "# this function takes a dataframe as input and\n",
    "# returns a modified version thereof\n",
    "def get_dummies_dataframe(input_df):\n",
    "    return pd.get_dummies(input_df, columns = nom_cat_feats)\n",
    "\n",
    "\n",
    "# this pipeline has a single step\n",
    "pipeline = Pipeline([\n",
    "    (\"get_dummies\", DataframeTransformer(get_dummies_dataframe))\n",
    "])"
   ]
  },
  {
   "cell_type": "code",
   "execution_count": 39,
   "id": "95cd7628-284a-4b6c-9309-8a185b76c1a9",
   "metadata": {},
   "outputs": [
    {
     "ename": "NameError",
     "evalue": "name 'KNeighborsClassifier' is not defined",
     "output_type": "error",
     "traceback": [
      "\u001b[0;31m---------------------------------------------------------------------------\u001b[0m",
      "\u001b[0;31mNameError\u001b[0m                                 Traceback (most recent call last)",
      "\u001b[0;32m<ipython-input-39-3ee250cc96a3>\u001b[0m in \u001b[0;36m<module>\u001b[0;34m\u001b[0m\n\u001b[1;32m     33\u001b[0m pipeline = Pipeline([\n\u001b[1;32m     34\u001b[0m     \u001b[0;34m(\u001b[0m\u001b[0;34m'preprocess'\u001b[0m\u001b[0;34m,\u001b[0m \u001b[0mpreprocess\u001b[0m\u001b[0;34m)\u001b[0m\u001b[0;34m,\u001b[0m\u001b[0;34m\u001b[0m\u001b[0;34m\u001b[0m\u001b[0m\n\u001b[0;32m---> 35\u001b[0;31m     \u001b[0;34m(\u001b[0m\u001b[0;34m'knn'\u001b[0m\u001b[0;34m,\u001b[0m \u001b[0mKNeighborsClassifier\u001b[0m\u001b[0;34m(\u001b[0m\u001b[0;34m)\u001b[0m\u001b[0;34m)\u001b[0m\u001b[0;34m\u001b[0m\u001b[0;34m\u001b[0m\u001b[0m\n\u001b[0m\u001b[1;32m     36\u001b[0m ])\n",
      "\u001b[0;31mNameError\u001b[0m: name 'KNeighborsClassifier' is not defined"
     ]
    }
   ],
   "source": [
    "\n",
    "freq_imp = SimpleImputer(missing_values=np.nan,strategy=\"most_frequent\")\n",
    "mean_imp = SimpleImputer(missing_values=np.nan, strategy=\"mean\")\n",
    "scaler = StandardScaler()\n",
    "dummies = OneHotEncoder(handle_unknown='ignore')\n",
    "\n",
    "#other options:\n",
    "#1. create new class that has transform and fit and uses make_dummies instead \n",
    "#2. put a FunctionTransformer() in the pipeline \n",
    "\n",
    "#imputing\n",
    "\n",
    "impute_mean_feats = ['Loan_Amount',]\n",
    "impute_freq_feats = [ 'Loan_Amount_Term', 'Dependents']\n",
    "\n",
    "\n",
    "#scaling\n",
    "scaling_feats = ord_cat_feats+num_feats\n",
    "\n",
    "#dummies\n",
    "dummies_feats = nom_cat_feats #default setting of this variable ... \n",
    "#ordinal_encode\n",
    "ord_feats = ord_cat_feats  #done manually at this point\n",
    "\n",
    "preprocess = ColumnTransformer([\n",
    "    ('most_freq_imp', freq_imp, impute_freq_feats),\n",
    "    ('mean_imp', mean_imp, impute_mean_feats), #only one numerical feature has NaN right now\n",
    "  #  ('scaler', scaler, scaling_feats),\n",
    "   # ('dummies', dummies, dummies_feats), \n",
    "])\n",
    "\n",
    "\n",
    "\n",
    "pipeline = Pipeline([\n",
    "    ('preprocess', preprocess),\n",
    "    ('knn', KNeighborsClassifier())\n",
    "])"
   ]
  },
  {
   "cell_type": "code",
   "execution_count": null,
   "id": "23937f2f-7492-4f3d-87f9-e0cbeb86da24",
   "metadata": {},
   "outputs": [],
   "source": [
    "freq_imp.fit_transform(data.loc[:, impute_freq_feats])"
   ]
  },
  {
   "cell_type": "code",
   "execution_count": null,
   "id": "011ea416-41cf-4163-bd1f-d395b5818410",
   "metadata": {},
   "outputs": [],
   "source": [
    "#let me now follow https://machinelearningmastery.com/modeling-pipeline-optimization-with-scikit-learn/\n",
    "#which does cv = 3 instead of cv = stratififedkfold( ... )\n",
    "\n",
    "model_feats = ord_cat_feats+nom_cat_feats+num_feats\n",
    "\n",
    "y = data.loc[:, target]\n",
    "X= data.loc[:, model_feats]\n",
    "\n",
    "# Split the data into test and train\n",
    "X_train, X_test, y_train, y_test = train_test_split(\n",
    "    X,  \n",
    "    y, \n",
    "    test_size=1/3,\n",
    "    random_state=0)\n",
    " \n",
    "print(X_train.shape)\n",
    "print(X_test.shape)\n",
    "\n",
    "#np.array(X)"
   ]
  },
  {
   "cell_type": "code",
   "execution_count": null,
   "id": "44bcea01-a536-4726-8ece-648bfa50ed8c",
   "metadata": {},
   "outputs": [],
   "source": [
    "print(target)"
   ]
  },
  {
   "cell_type": "code",
   "execution_count": null,
   "id": "20d169b6-3de0-43c8-bd02-27e8b59285a0",
   "metadata": {},
   "outputs": [],
   "source": [
    "print(model_feats)"
   ]
  },
  {
   "cell_type": "code",
   "execution_count": null,
   "id": "ca0e2015-16db-477d-a9ba-613ad9bef4b5",
   "metadata": {},
   "outputs": [],
   "source": [
    "perc_null(X_train)"
   ]
  },
  {
   "cell_type": "code",
   "execution_count": null,
   "id": "603d3275-38f5-4323-83c4-9bc486fd42ff",
   "metadata": {},
   "outputs": [],
   "source": [
    "preprocess.fit(data)"
   ]
  },
  {
   "cell_type": "code",
   "execution_count": null,
   "id": "960dee34-73a8-4826-b3ca-92178ce83664",
   "metadata": {},
   "outputs": [],
   "source": [
    "X_train_prep = preprocess.fit_transform(X_train)"
   ]
  },
  {
   "cell_type": "code",
   "execution_count": null,
   "id": "52877b20-cc08-4521-bf8b-44dbc88c9c26",
   "metadata": {},
   "outputs": [],
   "source": [
    "X_train_prep  #hmm ColumnTransformer returns an array ... "
   ]
  },
  {
   "cell_type": "code",
   "execution_count": null,
   "id": "5582b265-decb-4559-9526-0c4cbe68637f",
   "metadata": {},
   "outputs": [],
   "source": [
    "knn = KNeighborsClassifier()\n",
    "\n",
    "knn.fit(X_train_prep, y_train)"
   ]
  },
  {
   "cell_type": "code",
   "execution_count": null,
   "id": "bd904b7c-ec70-4a81-88d5-a26c9d2287b2",
   "metadata": {},
   "outputs": [],
   "source": [
    "\n",
    "knn = pipeline.fit(X_train, y_train)\n",
    "print('Training set score: ' + str(knn.score(X_train,y_train)))\n",
    "print('Test set score: ' + str(knn.score(X_test,y_test)))\n"
   ]
  },
  {
   "cell_type": "code",
   "execution_count": null,
   "id": "edb2ae9a-7817-458c-b8a3-b8d7b98d5e05",
   "metadata": {},
   "outputs": [],
   "source": [
    "what ... the fuck... it seems there is an infinite value (or too large)"
   ]
  }
 ],
 "metadata": {
  "kernelspec": {
   "display_name": "Python 3",
   "language": "python",
   "name": "python3"
  },
  "language_info": {
   "codemirror_mode": {
    "name": "ipython",
    "version": 3
   },
   "file_extension": ".py",
   "mimetype": "text/x-python",
   "name": "python",
   "nbconvert_exporter": "python",
   "pygments_lexer": "ipython3",
   "version": "3.8.8"
  }
 },
 "nbformat": 4,
 "nbformat_minor": 5
}
