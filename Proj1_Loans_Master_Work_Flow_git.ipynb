{
 "cells": [
  {
   "cell_type": "markdown",
   "id": "15be5320-cf15-4772-8b45-a4f743188ee3",
   "metadata": {},
   "source": [
    "# Loan predictions\n",
    "\n",
    "## Problem Statement\n",
    "\n",
    "We want to automate the loan eligibility process based on customer details that are provided as online application forms are being filled. You can find the dataset [here](https://drive.google.com/file/d/1h_jl9xqqqHflI5PsuiQd_soNYxzFfjKw/view?usp=sharing). These details concern the customer's Gender, Marital Status, Education, Number of Dependents, Income, Loan Amount, Credit History and other things as well. \n",
    "\n",
    "|Variable| Description|\n",
    "|: ------------- |:-------------|\n",
    "|Loan_ID| Unique Loan ID|\n",
    "|Gender| Male/ Female|\n",
    "|Married| Applicant married (Y/N)|\n",
    "|Dependents| Number of dependents|\n",
    "|Education| Applicant Education (Graduate/ Under Graduate)|\n",
    "|Self_Employed| Self employed (Y/N)|\n",
    "|ApplicantIncome| Applicant income|\n",
    "|CoapplicantIncome| Coapplicant income|\n",
    "|LoanAmount| Loan amount in thousands|\n",
    "|Loan_Amount_Term| Term of loan in months|\n",
    "|Credit_History| credit history meets guidelines|\n",
    "|Property_Area| Urban/ Semi Urban/ Rural|\n",
    "|Loan_Status| Loan approved (Y/N)\n",
    "\n",
    "\n",
    "\n",
    "### Explore the problem in following stages:\n",
    "\n",
    "1. Hypothesis Generation – understanding the problem better by brainstorming possible factors that can impact the outcome\n",
    "2. Data Exploration – looking at categorical and continuous feature summaries and making inferences about the data.\n",
    "3. Data Cleaning – imputing missing values in the data and checking for outliers\n",
    "4. Feature Engineering – modifying existing variables and creating new ones for analysis\n",
    "5. Model Building – making predictive models on the data"
   ]
  },
  {
   "cell_type": "markdown",
   "id": "e22419bf-9b0b-4d29-b447-7882b00e6c9f",
   "metadata": {},
   "source": [
    "1. Data and goal is selected. Only 600 rows but we go through the exercise of predicting whose loan will be approved.\n",
    "\n"
   ]
  },
  {
   "cell_type": "markdown",
   "id": "c05305ba-2ec7-49f4-9853-9daf0de5f4ff",
   "metadata": {},
   "source": [
    "2. Do research and Hypothesis generation.\n",
    "\n",
    "\n",
    "\n",
    "(a) https://www.srdc.org/media/199657/predicting-loan-default-cea-2013.pdf\n",
    "(for student loans specifically)\n",
    "\n",
    "-single parent 30% vs 12% default rate\n",
    "-education < Bach 20% vs 5-8%\n",
    "-family income helps\n",
    "\n",
    "\n",
    "##suggests: try to create features which capture:\n",
    "-single parent\n",
    "-family income (total income, number of kids)\n",
    "\n",
    "Insight: create a feature = total income\n",
    "Insight: create a feature = single parent?\n",
    "Insight: create a feature = (total income)/(total num dependents)  \n",
    "OR (total income)/(total family size)  \n",
    "\n",
    "(b) https://arxiv.org/pdf/2002.02011.pdf and \n",
    "\n",
    "Other factors that may be useful predictors:\n",
    "\n",
    "income/debt, length of loan, owns chk/svg account, occupation, work duration\n",
    "location, home ownership\n",
    "\n",
    "\n",
    "(c) https://selenaezhao.medium.com/predicting-loan-defaults-using-logistic-regression-71b7482a8cf7\n",
    "\n",
    "Interest Rate ... of course\n",
    "\n",
    "Note: many of these are not accessible from the features of the data set. "
   ]
  },
  {
   "cell_type": "raw",
   "id": "0415c244-ac58-4df0-b96f-90bd73d523eb",
   "metadata": {},
   "source": [
    "Hypotheses I would guess: age, sex, married, single, divorced, kids, income, work duration,\n",
    "    education,  size loan, length loan, interest rate of loan, nature of loan = house (important), \n",
    "    loan = boat (not very important)\n",
    "    \n",
    "Big 5 characteristics: look for markers of conscientiousness (neuroticism?) - finished school, \n",
    "    has job a long time, married, has kids, owns house, has bank account, has phone, \n",
    "    neighborhood not much crime & has schools,  past loan defaults/delinquancy, pays bills on time"
   ]
  },
  {
   "cell_type": "markdown",
   "id": "c7714f9e-a343-4f03-b0e0-95596ad3297c",
   "metadata": {},
   "source": [
    "3. Explore data and features"
   ]
  },
  {
   "cell_type": "raw",
   "id": "fed7b960-cf55-485b-a6cf-c9212c010aa2",
   "metadata": {},
   "source": [
    "See data exploration/cleaning notebook.\n",
    "\n",
    "a. check for NaN values ... eventually decide on drop or impute\n",
    "b. split features into numerical and categorical\n",
    "c. look at distributions for numerical vars and histograms for categorical vars\n",
    "(i) look for irregularities (not normal distribution - skewed? bimodal?)\n",
    "(ii) look for outliers \n",
    "(iii) look for redundant categories\n",
    "\n",
    "d. look at correlations of each feature with each-other and target.\n",
    "High correlation with each other - consider dropping one\n",
    "low correlation with target - consider dropping (but can do later)\n",
    "\n",
    "round 1 version of cleaning and processing: \n",
    "-don't worry about outliers (?) or skew\n",
    "-don't worry about correlations\n",
    "\n",
    "-do simple impute or drop NaN\n",
    "-do simple scaling for numerical\n",
    "-do simple dummy vars or nominal encoding for categorical features\n",
    "\n",
    "for round 2: \n",
    "-worry about outliers (drop) and skew (apply transform)\n",
    "-drop features based on correlation \n",
    "-combine redundant categories\n",
    "-look at binned versions of continuous data\n",
    "-look at smarter imputing ideas "
   ]
  },
  {
   "cell_type": "code",
   "execution_count": null,
   "id": "74cd8347-68a7-4495-9cc0-d06598008dfe",
   "metadata": {},
   "outputs": [],
   "source": []
  }
 ],
 "metadata": {
  "kernelspec": {
   "display_name": "Python 3",
   "language": "python",
   "name": "python3"
  },
  "language_info": {
   "codemirror_mode": {
    "name": "ipython",
    "version": 3
   },
   "file_extension": ".py",
   "mimetype": "text/x-python",
   "name": "python",
   "nbconvert_exporter": "python",
   "pygments_lexer": "ipython3",
   "version": "3.8.8"
  }
 },
 "nbformat": 4,
 "nbformat_minor": 5
}
